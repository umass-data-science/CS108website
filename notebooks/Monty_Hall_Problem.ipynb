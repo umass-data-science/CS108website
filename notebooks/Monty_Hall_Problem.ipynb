{
 "cells": [
  {
   "cell_type": "code",
   "execution_count": null,
   "metadata": {},
   "outputs": [],
   "source": [
    "# HIDDEN\n",
    "\n",
    "from datascience import *\n",
    "path_data = '../../../data/'\n",
    "import matplotlib\n",
    "# matplotlib.use('Agg', warn=False)\n",
    "matplotlib.use('Agg')\n",
    "%matplotlib inline\n",
    "import matplotlib.pyplot as plots\n",
    "plots.style.use('fivethirtyeight')\n",
    "import numpy as np"
   ]
  },
  {
   "cell_type": "markdown",
   "metadata": {},
   "source": [
    "### The Monty Hall Problem ###\n",
    "This [problem](https://en.wikipedia.org/wiki/Monty_Hall_problem) has flummoxed many people over the years, [mathematicians included](https://web.archive.org/web/20140413131827/http://www.decisionsciences.org/DecisionLine/Vol30/30_1/vazs30_1.pdf). Let's see if we can work it out by simulation.\n",
    "\n",
    "The setting is derived from a television game show called \"Let's Make a Deal\". Monty Hall hosted this show in the 1960's, and it has since led to a number of spin-offs. An exciting part of the show was that while the contestants had the chance to win great prizes, they might instead end up with \"zonks\" that were less desirable. This is the basis for what is now known as *the Monty Hall problem*.\n",
    "\n",
    "The setting is a game show in which the contestant is faced with three closed doors. Behind one of the doors is a fancy car, and behind each of the other two there is a goat. The contestant doesn't know where the car is, and has to attempt to find it under the following rules.\n",
    "\n",
    "- The contestant makes an initial choice, but that door isn't opened.\n",
    "- At least one of the other two doors must have a goat behind it. Monty opens one of these doors to reveal a goat, displayed in all its glory in [Wikipedia](https://en.wikipedia.org/wiki/Monty_Hall_problem):\n",
    "\n",
    "![Monty Hall goat](../../../images/monty_hall_goat.png)\n",
    "\n",
    "- There are two doors left, one of which was the contestant's original choice. One of the doors has the car behind it, and the other one has a goat. The contestant now gets to choose which of the two doors to open.\n",
    "\n",
    "The contestant has a decision to make. Which door should she choose to open, if she wants the car? Should she stick with her initial choice, or switch to the other door? That is the Monty Hall problem."
   ]
  },
  {
   "cell_type": "markdown",
   "metadata": {},
   "source": [
    "### The Solution ###\n",
    "\n",
    "In any problem involving chances, the assumptions about randomness are important. It's reasonable to assume that there is a 1/3 chance that the contestant's initial choice is the door that has the car behind it. \n",
    "\n",
    "The solution to the problem is quite straightforward under this assumption, though the straightforward solution doesn't convince everyone. Here it is anyway.\n",
    "\n",
    "- The chance that the car is behind the originally chosen door is 1/3.\n",
    "- The car is behind either the originally chosen door or the door that remains. It can't be anywhere else.\n",
    "- Therefore, the chance that the car is behind the door that remains is 2/3.\n",
    "- Therefore, the contestant should switch.\n",
    "\n",
    "That's it. End of story. \n",
    "\n",
    "Not convinced? Then let's simulate the game and see how the results turn out."
   ]
  },
  {
   "cell_type": "markdown",
   "metadata": {},
   "source": [
    "### Simulation ###\n",
    "The simulation will be more complex that those we have done so far. Let's break it down.\n",
    "\n",
    "### Step 1: What to Simulate ###\n",
    "For each play we will simulate what's behind all three doors:\n",
    "- the one the contestant first picks\n",
    "- the one that Monty throws out\n",
    "- the remaining door\n",
    "So we will be keeping track of three quantitites, not just one."
   ]
  },
  {
   "cell_type": "markdown",
   "metadata": {},
   "source": [
    "### Step 2: Simulating One Play ###\n",
    "The bulk of our work consists of simulating one play of the game. This involves several pieces.\n",
    "\n",
    "#### The Doors ####\n",
    "We start by setting up two useful arrays – `doors` and `goats` – that will allow us to distinguish the three doors and the two goats."
   ]
  },
  {
   "cell_type": "code",
   "execution_count": null,
   "metadata": {},
   "outputs": [],
   "source": [
    "doors = make_array('Car', 'Goat 1', 'Goat 2')\n",
    "goats = make_array('Goat 1', 'Goat 2')"
   ]
  },
  {
   "cell_type": "markdown",
   "metadata": {},
   "source": [
    "#### Identifying Goats ####\n",
    "\n",
    "We are going to have to recognize whether a door has a goat behind it or not. We can just label each door with what's behind it; the contestant can't see what we are doing! \n",
    "\n",
    "The function `is_goat` takes a door label and returns a Boolean signifying whether or not it is a goat."
   ]
  },
  {
   "cell_type": "code",
   "execution_count": null,
   "metadata": {},
   "outputs": [],
   "source": [
    "def is_goat(door_name):\n",
    "\n",
    "    if door_name == \"Goat 1\":\n",
    "        return True\n",
    "    elif door_name == \"Goat 2\":\n",
    "        return True\n",
    "    else:\n",
    "        return False\n"
   ]
  },
  {
   "cell_type": "markdown",
   "metadata": {},
   "source": [
    "Let's check that this function can indeed tell goats from cars."
   ]
  },
  {
   "cell_type": "code",
   "execution_count": null,
   "metadata": {},
   "outputs": [],
   "source": [
    "is_goat('Goat 1')"
   ]
  },
  {
   "cell_type": "code",
   "execution_count": null,
   "metadata": {},
   "outputs": [],
   "source": [
    "is_goat('Goat 2')"
   ]
  },
  {
   "cell_type": "code",
   "execution_count": null,
   "metadata": {},
   "outputs": [],
   "source": [
    "is_goat('Car')"
   ]
  },
  {
   "cell_type": "markdown",
   "metadata": {},
   "source": [
    "#### One Play ####\n",
    "\n",
    "If the contestant's original choice is a door with a goat, Monty must throw out the other goat, and what will remain is the car. If the original choice is the door with a car, Monty must throw out one of the two goats, and what will remain is the other goat. \n",
    "\n",
    "It is clear, therefore, that the function `other_one` defined in an earlier section will be useful. It takes a string and a two-element array; if the string is equal to one of the elements, it returns the other one."
   ]
  },
  {
   "cell_type": "code",
   "execution_count": null,
   "metadata": {},
   "outputs": [],
   "source": [
    "def other_one(x, a_b):\n",
    "    if x == a_b.item(0):\n",
    "        return a_b.item(1)\n",
    "    elif x == a_b.item(1):\n",
    "        return a_b.item(0)\n",
    "    else:\n",
    "        return 'Input Not Valid'"
   ]
  },
  {
   "cell_type": "markdown",
   "metadata": {},
   "source": [
    "If the contestant's original choice is a goat, then the outcome of the game could be one of the following two:"
   ]
  },
  {
   "cell_type": "code",
   "execution_count": null,
   "metadata": {},
   "outputs": [],
   "source": [
    "original = 'Goat 1'\n",
    "make_array(original, other_one(original, goats), 'Car')"
   ]
  },
  {
   "cell_type": "code",
   "execution_count": null,
   "metadata": {},
   "outputs": [],
   "source": [
    "original = 'Goat 2'\n",
    "make_array(original, other_one(original, goats), 'Car')"
   ]
  },
  {
   "cell_type": "markdown",
   "metadata": {},
   "source": [
    "If the original choice happens to be the car, then let's assume Monty throws out one of the two goats at random, and the other goat is behind the remaining door."
   ]
  },
  {
   "cell_type": "code",
   "execution_count": null,
   "metadata": {},
   "outputs": [],
   "source": [
    "original = 'Car'\n",
    "throw_out = np.random.choice(goats)\n",
    "make_array(original, throw_out, other_one(throw_out, goats))"
   ]
  },
  {
   "cell_type": "markdown",
   "metadata": {},
   "source": [
    "#### A Function to Simulate One Play ####\n",
    "Now we define a function `monty_hall` that simulates the game and returns an array of three strings in this order: \n",
    "- what is behind the contestant's original choice of door\n",
    "- what Monty throws out\n",
    "- what is behind the remaining door\n",
    "\n",
    "We can now put all this code together into a single function `monty_hall` to simulate the result of one game. The function takes no arguments. \n",
    "\n",
    "The contestant's original choice will be a door chosen at random from among the three doors. \n",
    "\n",
    "To check whether the original choice is a goat or not, we first write a little function named `is_goat`."
   ]
  },
  {
   "cell_type": "code",
   "execution_count": null,
   "metadata": {},
   "outputs": [],
   "source": [
    "def monty_hall():\n",
    "\n",
    "    \"\"\" Play the Monty Hall game once\n",
    "    and return an array of three strings:\n",
    "    \n",
    "    original choice, what Monty throws out, what remains\n",
    "    \"\"\"\n",
    "    \n",
    "    original = np.random.choice(doors)\n",
    "    \n",
    "    if is_goat(original):\n",
    "        return make_array(original, other_one(original, goats), 'Car')\n",
    "    \n",
    "    else:\n",
    "        throw_out = np.random.choice(goats)\n",
    "        return make_array(original, throw_out, other_one(throw_out, goats))"
   ]
  },
  {
   "cell_type": "markdown",
   "metadata": {},
   "source": [
    "Let's play the game a few times! Here is one outcome. You should run the cell several times to see how the outcome changes."
   ]
  },
  {
   "cell_type": "code",
   "execution_count": null,
   "metadata": {},
   "outputs": [],
   "source": [
    "monty_hall()"
   ]
  },
  {
   "cell_type": "markdown",
   "metadata": {},
   "source": [
    "### Step 3: Number of Repetitions ###\n",
    "To gauge the frequency with which the different outcomes occur, we have to play the games many times and collect the results. Let's run 10,000 repetitions.\n",
    "\n",
    "### Step 4: Coding the Simulation ###\n",
    "It's time to run the simulation. We will start by defining three empty arrays, one each for the original choice, what Monty throws out, and what remains. "
   ]
  },
  {
   "cell_type": "code",
   "execution_count": null,
   "metadata": {},
   "outputs": [],
   "source": [
    "original = make_array()     # original choice\n",
    "throw_out = make_array()    # what Monty throws out\n",
    "remains = make_array()      # what remains\n",
    "\n",
    "num_repetitions = 10000\n",
    "\n",
    "for i in np.arange(num_repetitions): \n",
    "    result = monty_hall()    # the result of one game\n",
    "    \n",
    "    # Collect the results in the appropriate arrays\n",
    "    original = np.append(original, result.item(0))\n",
    "    throw_out = np.append(throw_out, result.item(1))\n",
    "    remains = np.append(remains, result.item(2))"
   ]
  },
  {
   "cell_type": "markdown",
   "metadata": {},
   "source": [
    "The simulation is done. As always, the majority of the work is in generating the simulated outcome of one repetition."
   ]
  },
  {
   "cell_type": "markdown",
   "metadata": {},
   "source": [
    "### Visualization ###\n",
    "\n",
    "We can now put all the results into one table for ease of visualization."
   ]
  },
  {
   "cell_type": "code",
   "execution_count": null,
   "metadata": {},
   "outputs": [],
   "source": [
    "results = Table().with_columns(\n",
    "    'Original Door Choice', original,\n",
    "    'Monty Throws Out', throw_out,\n",
    "    'Remaining Door', remains\n",
    ")\n",
    "results"
   ]
  },
  {
   "cell_type": "markdown",
   "metadata": {},
   "source": [
    "To see whether the contestant should stick with her original choice or switch, let's see how frequently the car is behind each of her two options."
   ]
  },
  {
   "cell_type": "code",
   "execution_count": null,
   "metadata": {},
   "outputs": [],
   "source": [
    "results.group('Original Door Choice')"
   ]
  },
  {
   "cell_type": "code",
   "execution_count": null,
   "metadata": {},
   "outputs": [],
   "source": [
    "results.group('Remaining Door')"
   ]
  },
  {
   "cell_type": "markdown",
   "metadata": {},
   "source": [
    "As our solution said, the car is behind the remaining door two-thirds of the time, to a pretty good approximation. The contestant is twice as likely to get the car if she switches than if she sticks with her original choice.\n",
    "\n",
    "To see this graphically, we can join the two tables above and draw overlaid bar charts."
   ]
  },
  {
   "cell_type": "code",
   "execution_count": null,
   "metadata": {},
   "outputs": [],
   "source": [
    "results_o = results.group('Original Door Choice')\n",
    "results_r = results.group('Remaining Door')\n",
    "joined = results_o.join('Original Door Choice', results_r, 'Remaining Door')\n",
    "combined = joined.relabeled(0, 'Item').relabeled(1, 'Original Door').relabeled(2, 'Remaining Door')\n",
    "combined"
   ]
  },
  {
   "cell_type": "code",
   "execution_count": null,
   "metadata": {},
   "outputs": [],
   "source": [
    "combined.barh(0)"
   ]
  },
  {
   "cell_type": "markdown",
   "metadata": {},
   "source": [
    "Notice how the three blue bars are almost equal – the original choice is equally likely to be any of the three available items. But the gold bar corresponding to `Car` is twice as long as the blue. \n",
    "\n",
    "The simulation confirms that the contestant is twice as likely to win if she switches."
   ]
  }
 ],
 "metadata": {
  "anaconda-cloud": {},
  "kernelspec": {
   "display_name": "Python 3",
   "language": "python",
   "name": "python3"
  },
  "language_info": {
   "codemirror_mode": {
    "name": "ipython",
    "version": 3
   },
   "file_extension": ".py",
   "mimetype": "text/x-python",
   "name": "python",
   "nbconvert_exporter": "python",
   "pygments_lexer": "ipython3",
   "version": "3.6.4"
  }
 },
 "nbformat": 4,
 "nbformat_minor": 2
}
