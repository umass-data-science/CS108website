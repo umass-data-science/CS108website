{
 "cells": [
  {
   "cell_type": "code",
   "execution_count": null,
   "metadata": {},
   "outputs": [],
   "source": [
    "# HIDDEN\n",
    "from datascience import *\n",
    "import numpy as np\n",
    "path_data = '../../../data/'\n",
    "np.set_printoptions(threshold=50)"
   ]
  },
  {
   "cell_type": "markdown",
   "metadata": {},
   "source": [
    "# Sorting Rows\n",
    "\n",
    "\"The NBA is the highest paying professional sports league in the world,\" [reported CNN](http://edition.cnn.com/2015/12/04/sport/gallery/highest-paid-nba-players/) in March 2016. The table `nba_salaries` contains the salaries of all National Basketball Association players in 2015-2016.\n",
    "\n",
    "Each row represents one player. The columns are:\n",
    "\n",
    "| **Column Label**   | Description                                         |\n",
    "|--------------------|-----------------------------------------------------|\n",
    "| `PLAYER`           | Player's name                                       |\n",
    "| `POSITION`         | Player's position on team                           |\n",
    "| `TEAM`             | Team name                                           |\n",
    "|`'15-'16 SALARY`    | Player's salary in 2015-2016, in millions of dollars|\n",
    " \n",
    "The code for the positions is PG (Point Guard), SG (Shooting Guard), PF (Power Forward), SF (Small Forward), and C (Center). But what follows doesn't involve details about how basketball is played.\n",
    "\n",
    "The first row shows that Paul Millsap, Power Forward for the Atlanta Hawks, had a salary of almost $\\$18.7$ million in 2015-2016."
   ]
  },
  {
   "cell_type": "code",
   "execution_count": null,
   "metadata": {},
   "outputs": [],
   "source": [
    "# This table can be found online: https://www.statcrunch.com/app/index.php?dataid=1843341\n",
    "nba_salaries = Table.read_table('https://umass-data-science.github.io/CS108website/notebooks/nba_salaries.csv')\n",
    "nba_salaries"
   ]
  },
  {
   "cell_type": "markdown",
   "metadata": {},
   "source": [
    "The table contains 417 rows, one for each player. Only 10 of the rows are displayed. The `show` method allows us to specify the number of rows, with the default (no specification) being all the rows of the table."
   ]
  },
  {
   "cell_type": "code",
   "execution_count": null,
   "metadata": {},
   "outputs": [],
   "source": [
    "nba_salaries.show(3)"
   ]
  },
  {
   "cell_type": "markdown",
   "metadata": {},
   "source": [
    "Glance through about 20 rows or so, and you will see that the rows are in alphabetical order by team name. It's also possible to list the same rows in alphabetical order by player name using the `sort` method. The argument to `sort` is a column label or index."
   ]
  },
  {
   "cell_type": "code",
   "execution_count": null,
   "metadata": {},
   "outputs": [],
   "source": [
    "nba_salaries.sort('PLAYER').show(5)"
   ]
  },
  {
   "cell_type": "markdown",
   "metadata": {},
   "source": [
    "To examine the players' salaries, it would be much more helpful if the data were ordered by salary.\n",
    "\n",
    "To do this, we will first simplify the label of the column of salaries (just for convenience), and then sort by the new label `SALARY`. \n",
    "\n",
    "This arranges all the rows of the table in *increasing* order of salary, with the lowest salary appearing first. The output is a new table with the same columns as the original but with the rows rearranged."
   ]
  },
  {
   "cell_type": "code",
   "execution_count": null,
   "metadata": {},
   "outputs": [],
   "source": [
    "nba = nba_salaries.relabeled(\"'15-'16 SALARY\", 'SALARY')\n",
    "nba.sort('SALARY')"
   ]
  },
  {
   "cell_type": "markdown",
   "metadata": {},
   "source": [
    "These figures are somewhat difficult to compare as some of these players changed teams during the season and received salaries from more than one team; only the salary from the last team appears in the table. Point Guard Phil Pressey, for example, moved from Philadelphia to Phoenix during the year, and might be moving yet again to the Golden State Warriors. \n",
    "\n",
    "The CNN report is about the other end of the salary scale – the players who are among the highest paid in the world. \n",
    "\n",
    "To order the rows of the table in *decreasing* order of salary, we must use `sort` with the option `descending=True`."
   ]
  },
  {
   "cell_type": "code",
   "execution_count": null,
   "metadata": {},
   "outputs": [],
   "source": [
    "nba.sort('SALARY', descending=True)"
   ]
  },
  {
   "cell_type": "markdown",
   "metadata": {},
   "source": [
    "Kobe Bryant, in his final season with the Lakers, was the highest paid at a salary of $\\$25$ million. Notice that the MVP Stephen Curry doesn't appear among the top 10. He is quite a bit further down the list, as we will see later."
   ]
  },
  {
   "cell_type": "markdown",
   "metadata": {},
   "source": [
    "### Named Arguments\n",
    "\n",
    "The `descending=True` portion of this call expression is called a *named argument*. When a function or method is called, each argument has both a position and a name. Both are evident from the help text of a function or method."
   ]
  },
  {
   "cell_type": "code",
   "execution_count": null,
   "metadata": {},
   "outputs": [],
   "source": [
    "help(nba.sort)"
   ]
  },
  {
   "cell_type": "markdown",
   "metadata": {},
   "source": [
    "At the very top of this `help` text, the *signature* of the `sort` method appears:\n",
    "\n",
    "    sort(column_or_label, descending=False, distinct=False)\n",
    "    \n",
    "This describes the positions, names, and default values of the three arguments to `sort`. When calling this method, you can use either positional arguments or named arguments, so the following three calls do exactly the same thing.\n",
    "\n",
    "    sort('SALARY', True)\n",
    "    sort('SALARY', descending=True)\n",
    "    sort(column_or_label='SALARY', descending=True)\n",
    "    \n",
    "When an argument is simply `True` or `False`, it's a useful convention to include the argument name so that it's more obvious what the argument value means."
   ]
  }
 ],
 "metadata": {
  "anaconda-cloud": {},
  "kernelspec": {
   "display_name": "Python 3",
   "language": "python",
   "name": "python3"
  },
  "language_info": {
   "codemirror_mode": {
    "name": "ipython",
    "version": 3
   },
   "file_extension": ".py",
   "mimetype": "text/x-python",
   "name": "python",
   "nbconvert_exporter": "python",
   "pygments_lexer": "ipython3",
   "version": "3.6.4"
  }
 },
 "nbformat": 4,
 "nbformat_minor": 2
}
